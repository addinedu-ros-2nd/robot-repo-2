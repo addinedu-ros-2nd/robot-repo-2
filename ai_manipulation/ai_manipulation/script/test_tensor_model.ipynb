{
 "cells": [
  {
   "cell_type": "code",
   "execution_count": 1,
   "metadata": {},
   "outputs": [
    {
     "name": "stderr",
     "output_type": "stream",
     "text": [
      "/tmp/ipykernel_1695110/1536545033.py:3: UserWarning: genfromtxt: Empty input file: \"/home/kimdu/hanse/src/ai_manipulation/ai_manipulation/datas/six_dxl_states.json\"\n",
      "  raw_data = np.genfromtxt('/home/kimdu/hanse/src/ai_manipulation/ai_manipulation/datas/six_dxl_states.json', skip_header = 36)\n"
     ]
    },
    {
     "data": {
      "text/plain": [
       "array([], dtype=float64)"
      ]
     },
     "execution_count": 1,
     "metadata": {},
     "output_type": "execute_result"
    }
   ],
   "source": [
    "import numpy as np\n",
    "\n",
    "raw_data = np.genfromtxt('/home/kimdu/hanse/src/ai_manipulation/ai_manipulation/datas/six_dxl_states.json', skip_header = 36)\n",
    "raw_data"
   ]
  },
  {
   "cell_type": "code",
   "execution_count": null,
   "metadata": {},
   "outputs": [],
   "source": [
    "        # 좌표 설정\n",
    "goals = []\n",
    "goal_names = ['home', 'station', '1st', '2nd', '3rd', '4th', '5th']\n",
    "for idx, names in enumerate((goal_names)):\n",
    "    a = goal_{names}\n",
    "    print(f\"goal_{names}\")\n",
    "    goals.append(a)"
   ]
  }
 ],
 "metadata": {
  "kernelspec": {
   "display_name": ".venv",
   "language": "python",
   "name": "python3"
  },
  "language_info": {
   "codemirror_mode": {
    "name": "ipython",
    "version": 3
   },
   "file_extension": ".py",
   "mimetype": "text/x-python",
   "name": "python",
   "nbconvert_exporter": "python",
   "pygments_lexer": "ipython3",
   "version": "3.10.12"
  }
 },
 "nbformat": 4,
 "nbformat_minor": 2
}
